{
 "cells": [
  {
   "cell_type": "code",
   "execution_count": 1,
   "id": "852a1841-b6e7-482c-b55c-41596c5d8df3",
   "metadata": {},
   "outputs": [],
   "source": [
    "# manual method\n",
    "import pandas as pd\n",
    "text = ['This is a line' , 'This is another line' , 'Completeley different line']"
   ]
  },
  {
   "cell_type": "code",
   "execution_count": 3,
   "id": "1fd7e87f-4484-4314-b005-2dc0fea5631c",
   "metadata": {},
   "outputs": [
    {
     "data": {
      "text/plain": [
       "{'This', 'a', 'is', 'line'}"
      ]
     },
     "execution_count": 3,
     "metadata": {},
     "output_type": "execute_result"
    }
   ],
   "source": [
    "words_one = text[0].split()\n",
    "uni_words_one = set(words_one)\n",
    "uni_words_one"
   ]
  },
  {
   "cell_type": "code",
   "execution_count": 4,
   "id": "fcaaea59-0a65-4a58-9eaf-cf7006b6f5cc",
   "metadata": {},
   "outputs": [
    {
     "data": {
      "text/plain": [
       "{'This', 'another', 'is', 'line'}"
      ]
     },
     "execution_count": 4,
     "metadata": {},
     "output_type": "execute_result"
    }
   ],
   "source": [
    "words_two = text[1].split()\n",
    "uni_words_two = set(words_two)\n",
    "uni_words_two"
   ]
  },
  {
   "cell_type": "code",
   "execution_count": 5,
   "id": "ea8a38ef-97c8-424b-8676-58824e30c14f",
   "metadata": {},
   "outputs": [
    {
     "data": {
      "text/plain": [
       "{'Completeley', 'different', 'line'}"
      ]
     },
     "execution_count": 5,
     "metadata": {},
     "output_type": "execute_result"
    }
   ],
   "source": [
    "words_three = text[2].split()\n",
    "uni_words_three = set(words_three)\n",
    "uni_words_three"
   ]
  },
  {
   "cell_type": "code",
   "execution_count": 6,
   "id": "1a133f58-3f37-444f-bbd7-de731d1c11c6",
   "metadata": {},
   "outputs": [
    {
     "data": {
      "text/plain": [
       "{'Completeley', 'This', 'a', 'another', 'different', 'is', 'line'}"
      ]
     },
     "execution_count": 6,
     "metadata": {},
     "output_type": "execute_result"
    }
   ],
   "source": [
    "all_uni_words = set()\n",
    "all_uni_words.update(uni_words_one)\n",
    "all_uni_words.update(uni_words_two)\n",
    "all_uni_words.update(uni_words_three)\n",
    "all_uni_words"
   ]
  },
  {
   "cell_type": "code",
   "execution_count": 9,
   "id": "5518cd97-3c66-41f4-95c0-eab8ba807f46",
   "metadata": {},
   "outputs": [
    {
     "data": {
      "text/plain": [
       "{'line': 0,\n",
       " 'a': 1,\n",
       " 'another': 2,\n",
       " 'This': 3,\n",
       " 'different': 4,\n",
       " 'Completeley': 5,\n",
       " 'is': 6}"
      ]
     },
     "execution_count": 9,
     "metadata": {},
     "output_type": "execute_result"
    }
   ],
   "source": [
    "full_vocab = dict()\n",
    "i = 0 \n",
    "for word in all_uni_words:\n",
    "    full_vocab[word] = i\n",
    "    i = i+1\n",
    "full_vocab"
   ]
  },
  {
   "cell_type": "code",
   "execution_count": 11,
   "id": "642fce53-987e-4487-ac99-c5decc5ce0e6",
   "metadata": {},
   "outputs": [],
   "source": [
    "one_freq = [0]*len(full_vocab)\n",
    "two_freq = [0]*len(full_vocab)\n",
    "three_freq = [0] * len(full_vocab)\n",
    "all_words = ['']*len(full_vocab)\n",
    "\n",
    "one_text = text[0].split()\n",
    "for word in one_text:\n",
    "    word_ind = full_vocab[word]\n",
    "    one_freq[word_ind] += 1\n",
    "two_text = text[1].split()\n",
    "for word in two_text:\n",
    "    word_ind = full_vocab[word]\n",
    "    two_freq[word_ind] += 1\n",
    "three_text = text[2].split()\n",
    "for word in three_text:\n",
    "    word_ind = full_vocab[word]\n",
    "    three_freq[word_ind] += 1\n",
    "for word in full_vocab:\n",
    "    word_ind = full_vocab[word]\n",
    "    all_words[word_ind] = word"
   ]
  },
  {
   "cell_type": "code",
   "execution_count": 12,
   "id": "f7e83546-5c3f-494b-9c8f-798ef1ac717b",
   "metadata": {},
   "outputs": [
    {
     "data": {
      "text/html": [
       "<div>\n",
       "<style scoped>\n",
       "    .dataframe tbody tr th:only-of-type {\n",
       "        vertical-align: middle;\n",
       "    }\n",
       "\n",
       "    .dataframe tbody tr th {\n",
       "        vertical-align: top;\n",
       "    }\n",
       "\n",
       "    .dataframe thead th {\n",
       "        text-align: right;\n",
       "    }\n",
       "</style>\n",
       "<table border=\"1\" class=\"dataframe\">\n",
       "  <thead>\n",
       "    <tr style=\"text-align: right;\">\n",
       "      <th></th>\n",
       "      <th>line</th>\n",
       "      <th>a</th>\n",
       "      <th>another</th>\n",
       "      <th>This</th>\n",
       "      <th>different</th>\n",
       "      <th>Completeley</th>\n",
       "      <th>is</th>\n",
       "    </tr>\n",
       "  </thead>\n",
       "  <tbody>\n",
       "    <tr>\n",
       "      <th>0</th>\n",
       "      <td>1</td>\n",
       "      <td>1</td>\n",
       "      <td>0</td>\n",
       "      <td>1</td>\n",
       "      <td>0</td>\n",
       "      <td>0</td>\n",
       "      <td>1</td>\n",
       "    </tr>\n",
       "    <tr>\n",
       "      <th>1</th>\n",
       "      <td>1</td>\n",
       "      <td>0</td>\n",
       "      <td>1</td>\n",
       "      <td>1</td>\n",
       "      <td>0</td>\n",
       "      <td>0</td>\n",
       "      <td>1</td>\n",
       "    </tr>\n",
       "    <tr>\n",
       "      <th>2</th>\n",
       "      <td>1</td>\n",
       "      <td>0</td>\n",
       "      <td>0</td>\n",
       "      <td>0</td>\n",
       "      <td>1</td>\n",
       "      <td>1</td>\n",
       "      <td>0</td>\n",
       "    </tr>\n",
       "  </tbody>\n",
       "</table>\n",
       "</div>"
      ],
      "text/plain": [
       "   line  a  another  This  different  Completeley  is\n",
       "0     1  1        0     1          0            0   1\n",
       "1     1  0        1     1          0            0   1\n",
       "2     1  0        0     0          1            1   0"
      ]
     },
     "execution_count": 12,
     "metadata": {},
     "output_type": "execute_result"
    }
   ],
   "source": [
    "bow = pd.DataFrame(data=[one_freq , two_freq , three_freq] , columns=all_words)\n",
    "bow"
   ]
  },
  {
   "cell_type": "code",
   "execution_count": null,
   "id": "5e8052a1-7c27-4e32-b476-8e29bcf57667",
   "metadata": {},
   "outputs": [],
   "source": [
    "\n"
   ]
  },
  {
   "cell_type": "code",
   "execution_count": null,
   "id": "0bac1e4d-7489-4ba4-a983-cbb9e22caac7",
   "metadata": {},
   "outputs": [],
   "source": []
  },
  {
   "cell_type": "code",
   "execution_count": 13,
   "id": "ae0d2d42-f0dc-4a15-b71f-079dc2d7efd8",
   "metadata": {},
   "outputs": [],
   "source": [
    "# SK LEARN PROCCESS"
   ]
  },
  {
   "cell_type": "code",
   "execution_count": 14,
   "id": "c5b28160-0ddc-4b77-aa3e-482b5e517a71",
   "metadata": {},
   "outputs": [
    {
     "data": {
      "text/plain": [
       "matrix([[0, 0, 0, 1, 1, 1],\n",
       "        [1, 0, 0, 1, 1, 1],\n",
       "        [0, 1, 1, 0, 1, 0]], dtype=int64)"
      ]
     },
     "execution_count": 14,
     "metadata": {},
     "output_type": "execute_result"
    }
   ],
   "source": [
    "from sklearn.feature_extraction.text import CountVectorizer , TfidfTransformer , TfidfVectorizer\n",
    "cv = CountVectorizer()\n",
    "sparse_mat = cv.fit_transform(text)\n",
    "sparse_mat.todense()"
   ]
  },
  {
   "cell_type": "code",
   "execution_count": 16,
   "id": "14a68ef7-f2fb-4cdf-8f92-307f9666edab",
   "metadata": {},
   "outputs": [
    {
     "data": {
      "text/plain": [
       "{'this': 5, 'is': 3, 'line': 4, 'another': 0, 'completeley': 1, 'different': 2}"
      ]
     },
     "execution_count": 16,
     "metadata": {},
     "output_type": "execute_result"
    }
   ],
   "source": [
    "cv.vocabulary_"
   ]
  },
  {
   "cell_type": "code",
   "execution_count": 22,
   "id": "5339d92a-1ba7-4739-8f07-0d88bfa0610f",
   "metadata": {},
   "outputs": [
    {
     "data": {
      "text/plain": [
       "matrix([[0.        , 0.        , 0.        , 0.61980538, 0.48133417,\n",
       "         0.61980538],\n",
       "        [0.63174505, 0.        , 0.        , 0.4804584 , 0.37311881,\n",
       "         0.4804584 ],\n",
       "        [0.        , 0.65249088, 0.65249088, 0.        , 0.38537163,\n",
       "         0.        ]])"
      ]
     },
     "execution_count": 22,
     "metadata": {},
     "output_type": "execute_result"
    }
   ],
   "source": [
    "tfidf_tran = TfidfTransformer()\n",
    "sparse_mat = tfidf_tran.fit_transform(sparse_mat)\n",
    "sparse_mat.todense()"
   ]
  },
  {
   "cell_type": "code",
   "execution_count": null,
   "id": "0139842e-3358-4093-bfae-cae3a1ba28e9",
   "metadata": {},
   "outputs": [],
   "source": [
    "tfidf = TfidfVectorizer()\n",
    "mat = tfidf.f"
   ]
  }
 ],
 "metadata": {
  "kernelspec": {
   "display_name": "Python 3 (ipykernel)",
   "language": "python",
   "name": "python3"
  },
  "language_info": {
   "codemirror_mode": {
    "name": "ipython",
    "version": 3
   },
   "file_extension": ".py",
   "mimetype": "text/x-python",
   "name": "python",
   "nbconvert_exporter": "python",
   "pygments_lexer": "ipython3",
   "version": "3.11.7"
  }
 },
 "nbformat": 4,
 "nbformat_minor": 5
}
