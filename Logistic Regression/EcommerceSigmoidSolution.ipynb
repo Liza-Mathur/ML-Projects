{
 "cells": [
  {
   "cell_type": "code",
   "execution_count": 1,
   "id": "3adb0bdb-1386-4a25-a5ed-da4e62a603f8",
   "metadata": {},
   "outputs": [],
   "source": [
    "import numpy as np\n",
    "import pandas as pd\n",
    "import seaborn as sns\n",
    "import matplotlib.pyplot as plt"
   ]
  },
  {
   "cell_type": "code",
   "execution_count": 57,
   "id": "18189e41-23ae-4de4-8320-68d18f3e4249",
   "metadata": {},
   "outputs": [
    {
     "data": {
      "text/plain": [
       "user_action\n",
       "0    253\n",
       "1    145\n",
       "Name: count, dtype: int64"
      ]
     },
     "execution_count": 57,
     "metadata": {},
     "output_type": "execute_result"
    }
   ],
   "source": [
    "df = pd.read_csv('./ecommerce_data.csv')\n",
    "df.head()\n",
    "df = df[df['user_action'].isin([0,1])]\n",
    "df['user_action'].value_counts()"
   ]
  },
  {
   "cell_type": "code",
   "execution_count": 58,
   "id": "857d9d36-b69c-4477-aebb-e5e3e18f746d",
   "metadata": {},
   "outputs": [
    {
     "data": {
      "text/plain": [
       "(266, 5)"
      ]
     },
     "execution_count": 58,
     "metadata": {},
     "output_type": "execute_result"
    }
   ],
   "source": [
    "X = df.drop('user_action' , axis=1)\n",
    "y = df['user_action']\n",
    "from sklearn.model_selection import train_test_split\n",
    "x_train , x_test , y_train , y_test = train_test_split(X , y , test_size = 0.33 , random_state=101)\n",
    "x_train.shape"
   ]
  },
  {
   "cell_type": "code",
   "execution_count": 67,
   "id": "6695da92-14fa-4318-af77-0c8f035ba4ae",
   "metadata": {},
   "outputs": [
    {
     "data": {
      "text/plain": [
       "array([-1.21086357, -1.90363986, -2.67416726, -0.29551416, -0.38065582])"
      ]
     },
     "execution_count": 67,
     "metadata": {},
     "output_type": "execute_result"
    }
   ],
   "source": [
    "# now I have to predict through the sigmoid function\n",
    "# first I need D , i.e. the number of features I have in x_train , because the number of cols in w will be same as it\n",
    "# then I make w - a random array - for now random weight\n",
    "# then we for now create 0 bias. IDK actually what bias is but its 0 so its fine for now\n",
    "# D = x_train.shape[1]\n",
    "# w = np.random.randn(D)\n",
    "# b=0\n",
    "# w.shape\n",
    "D = x_train.shape[1]\n",
    "w = np.random.randn(D)\n",
    "b=0\n",
    "w"
   ]
  },
  {
   "cell_type": "code",
   "execution_count": 68,
   "id": "da6d3d99-f41b-4db3-b6a4-2fdb05f7617d",
   "metadata": {},
   "outputs": [],
   "source": [
    "# now we actually create the sigmoid function\n",
    "def sigmoid(z):\n",
    "    return 1/(1+np.exp(-z))"
   ]
  },
  {
   "cell_type": "code",
   "execution_count": 69,
   "id": "c2bb6aac-9d4a-4ee8-a8df-663f5f82cf7f",
   "metadata": {},
   "outputs": [],
   "source": [
    "# oh we call sigmoid from forward() , why? First we need to call sigmoid on w.T dot X and second we need sigmoid function + bias\n",
    "def forward(x , w , b):\n",
    "    return sigmoid(x.dot(w) + b)"
   ]
  },
  {
   "cell_type": "code",
   "execution_count": 70,
   "id": "951c1410-6e38-4a8b-a66d-617f662f2e81",
   "metadata": {},
   "outputs": [
    {
     "data": {
      "text/plain": [
       "(266,)"
      ]
     },
     "execution_count": 70,
     "metadata": {},
     "output_type": "execute_result"
    }
   ],
   "source": [
    "# now we predict the y from out function. But it will give some values between 0 to 1\n",
    "predict = forward(x_train , w , b)\n",
    "predict.shape"
   ]
  },
  {
   "cell_type": "code",
   "execution_count": 71,
   "id": "61bd8431-f010-4f5b-84c7-a714937b4564",
   "metadata": {},
   "outputs": [
    {
     "data": {
      "text/plain": [
       "array([0.])"
      ]
     },
     "execution_count": 71,
     "metadata": {},
     "output_type": "execute_result"
    }
   ],
   "source": [
    "#  as we know if y<0.5 then its 0 otherwise its 1, so we round it off.\n",
    "predict = np.round(predict)\n",
    "np.unique(predict)"
   ]
  },
  {
   "cell_type": "code",
   "execution_count": 72,
   "id": "9005290a-fd2f-4445-8af3-0b404ae1a5d2",
   "metadata": {},
   "outputs": [
    {
     "data": {
      "text/plain": [
       "463    0\n",
       "103    1\n",
       "163    0\n",
       "290    0\n",
       "183    1\n",
       "      ..\n",
       "81     0\n",
       "406    1\n",
       "421    0\n",
       "16     1\n",
       "442    0\n",
       "Name: user_action, Length: 266, dtype: int64"
      ]
     },
     "execution_count": 72,
     "metadata": {},
     "output_type": "execute_result"
    }
   ],
   "source": [
    "y_train"
   ]
  },
  {
   "cell_type": "code",
   "execution_count": 73,
   "id": "21bc9e5b-c540-48bd-9ceb-aa13d19f7e57",
   "metadata": {},
   "outputs": [
    {
     "data": {
      "text/plain": [
       "(266,)"
      ]
     },
     "execution_count": 73,
     "metadata": {},
     "output_type": "execute_result"
    }
   ],
   "source": [
    "# now we check classification rate or accurancy\n",
    "def classification_rate(Y , P):\n",
    "    return np.mean(Y == P)\n",
    "# this shall first check, what all y_train are same as the value we predicted and then it shall take mean of that. \n",
    "predict.shape"
   ]
  },
  {
   "cell_type": "code",
   "execution_count": 74,
   "id": "b656c35b-875f-4848-9708-fabe22ad6a82",
   "metadata": {},
   "outputs": [
    {
     "data": {
      "text/plain": [
       "0.6203007518796992"
      ]
     },
     "execution_count": 74,
     "metadata": {},
     "output_type": "execute_result"
    }
   ],
   "source": [
    "classification_rate(y_train.to_numpy() , predict)"
   ]
  },
  {
   "cell_type": "code",
   "execution_count": null,
   "id": "e3b92d46-b6eb-4d08-969e-6dbd1c26bf60",
   "metadata": {},
   "outputs": [],
   "source": [
    "def cross_entropy(Y , pY):\n",
    "    return np.mean((Y * (np.log(pY))) + (1-Y)*(np.log(1-pY)))"
   ]
  }
 ],
 "metadata": {
  "kernelspec": {
   "display_name": "Python 3 (ipykernel)",
   "language": "python",
   "name": "python3"
  },
  "language_info": {
   "codemirror_mode": {
    "name": "ipython",
    "version": 3
   },
   "file_extension": ".py",
   "mimetype": "text/x-python",
   "name": "python",
   "nbconvert_exporter": "python",
   "pygments_lexer": "ipython3",
   "version": "3.11.7"
  }
 },
 "nbformat": 4,
 "nbformat_minor": 5
}
