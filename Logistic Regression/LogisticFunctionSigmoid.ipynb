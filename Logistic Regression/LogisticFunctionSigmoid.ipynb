{
 "cells": [
  {
   "cell_type": "code",
   "execution_count": 1,
   "id": "56511a07-ad4d-4632-82c6-1c22bd4a9b1a",
   "metadata": {},
   "outputs": [],
   "source": [
    "import numpy as np"
   ]
  },
  {
   "cell_type": "code",
   "execution_count": 2,
   "id": "3257c457-3624-4e7d-9551-4d09a06205fa",
   "metadata": {},
   "outputs": [],
   "source": [
    "N = 100\n",
    "D = 2"
   ]
  },
  {
   "cell_type": "code",
   "execution_count": 3,
   "id": "e355df2a-212b-4a30-ba25-0480cf55d52b",
   "metadata": {},
   "outputs": [],
   "source": [
    "X = np.random.randn(N , D)"
   ]
  },
  {
   "cell_type": "code",
   "execution_count": 12,
   "id": "b51cf1ba-b9a6-424b-b2c2-1f4831646999",
   "metadata": {},
   "outputs": [],
   "source": [
    "ones = np.ones((N,1))\n",
    "Xb = np.concatenate((ones , X) , axis=1)"
   ]
  },
  {
   "cell_type": "code",
   "execution_count": 14,
   "id": "294e8f5c-11a2-4dac-bdec-15eb46ec293f",
   "metadata": {},
   "outputs": [
    {
     "data": {
      "text/plain": [
       "array([0.72352003, 0.51006035, 0.57938574])"
      ]
     },
     "execution_count": 14,
     "metadata": {},
     "output_type": "execute_result"
    }
   ],
   "source": [
    "w = np.random.rand(D+1)\n",
    "w"
   ]
  },
  {
   "cell_type": "code",
   "execution_count": 16,
   "id": "4fe98498-75ec-4f3e-87d0-e5e3ff9dd1b8",
   "metadata": {},
   "outputs": [],
   "source": [
    "z = Xb.dot(w)"
   ]
  },
  {
   "cell_type": "code",
   "execution_count": 17,
   "id": "03d6955a-df93-43ab-b8c4-cbbb38855a1f",
   "metadata": {},
   "outputs": [],
   "source": [
    "def sigmoid(z):\n",
    "    return 1/(1+ np.exp(-z))"
   ]
  },
  {
   "cell_type": "code",
   "execution_count": 18,
   "id": "08ccaa80-c2d1-4d42-a77f-160de4c561af",
   "metadata": {},
   "outputs": [
    {
     "data": {
      "text/plain": [
       "array([0.85955226, 0.73100456, 0.73818253, 0.53958397, 0.56954103,\n",
       "       0.39460591, 0.85180993, 0.7114448 , 0.27940021, 0.36444466,\n",
       "       0.60878894, 0.42565337, 0.58012758, 0.50768428, 0.78454989,\n",
       "       0.7089569 , 0.63097037, 0.75976743, 0.60634704, 0.6743929 ,\n",
       "       0.69101226, 0.50073514, 0.68869411, 0.28970682, 0.81564138,\n",
       "       0.70187967, 0.76995996, 0.81702977, 0.47549005, 0.44366501,\n",
       "       0.63479627, 0.47402896, 0.68390248, 0.34618148, 0.85015733,\n",
       "       0.67212157, 0.72871998, 0.87002834, 0.54575623, 0.87882543,\n",
       "       0.80106072, 0.49424299, 0.82391952, 0.48544143, 0.75413428,\n",
       "       0.80801655, 0.67975423, 0.76834111, 0.53172969, 0.58469601,\n",
       "       0.46985962, 0.69603306, 0.65367866, 0.75695304, 0.54889316,\n",
       "       0.819319  , 0.41881617, 0.61905475, 0.7110473 , 0.81880797,\n",
       "       0.63465743, 0.53314035, 0.72304227, 0.79109437, 0.84653907,\n",
       "       0.66557411, 0.3691348 , 0.71510379, 0.73100006, 0.5808913 ,\n",
       "       0.69246181, 0.54805823, 0.75042116, 0.77197196, 0.59777996,\n",
       "       0.70797973, 0.79042315, 0.35703368, 0.65287147, 0.75967015,\n",
       "       0.82165258, 0.88459201, 0.71922226, 0.78406714, 0.65816182,\n",
       "       0.72774067, 0.45264729, 0.56094972, 0.59689513, 0.36364749,\n",
       "       0.87409329, 0.84564513, 0.3657219 , 0.84514013, 0.74261048,\n",
       "       0.71749039, 0.58300726, 0.84958492, 0.59380198, 0.81980226])"
      ]
     },
     "execution_count": 18,
     "metadata": {},
     "output_type": "execute_result"
    }
   ],
   "source": [
    "sigmoid(z)"
   ]
  },
  {
   "cell_type": "code",
   "execution_count": null,
   "id": "b3305a69-9997-4b2d-973c-f12e73c8d77c",
   "metadata": {},
   "outputs": [],
   "source": []
  }
 ],
 "metadata": {
  "kernelspec": {
   "display_name": "Python 3 (ipykernel)",
   "language": "python",
   "name": "python3"
  },
  "language_info": {
   "codemirror_mode": {
    "name": "ipython",
    "version": 3
   },
   "file_extension": ".py",
   "mimetype": "text/x-python",
   "name": "python",
   "nbconvert_exporter": "python",
   "pygments_lexer": "ipython3",
   "version": "3.11.7"
  }
 },
 "nbformat": 4,
 "nbformat_minor": 5
}
