{
 "cells": [
  {
   "cell_type": "code",
   "execution_count": 1,
   "id": "bf5bb8b6-196b-4388-a26b-bf5e559b8e6c",
   "metadata": {},
   "outputs": [],
   "source": [
    "import numpy as np \n",
    "import pandas as pd\n",
    "import matplotlib.pyplot as plt\n",
    "from sklearn.datasets import load_breast_cancer"
   ]
  },
  {
   "cell_type": "code",
   "execution_count": 2,
   "id": "9f455d87-ff58-4496-9369-df333ed70c02",
   "metadata": {},
   "outputs": [],
   "source": [
    "from sklearn.preprocessing import StandardScaler\n",
    "from sklearn.model_selection import train_test_split\n",
    "from sklearn.svm import SVC\n",
    "from sklearn.metrics import accuracy_score , confusion_matrix , classification_report"
   ]
  },
  {
   "cell_type": "code",
   "execution_count": 5,
   "id": "f8b32170-5ed5-4b90-960e-3059a6f23fae",
   "metadata": {},
   "outputs": [],
   "source": [
    "df = load_breast_cancer()"
   ]
  },
  {
   "cell_type": "code",
   "execution_count": 6,
   "id": "926be30e-da3f-47e2-8b78-6dc288f070b8",
   "metadata": {},
   "outputs": [],
   "source": [
    "x_train , x_test , y_train , y_test = train_test_split(df.data , df.target , test_size=0.33 , random_state=101)\n",
    "scalar = StandardScaler()\n",
    "x_train = scalar.fit_transform(x_train)\n",
    "x_test = scalar.transform(x_test)"
   ]
  },
  {
   "cell_type": "code",
   "execution_count": 7,
   "id": "aea52025-6def-4e30-9b53-28d7e92150fa",
   "metadata": {},
   "outputs": [
    {
     "name": "stdout",
     "output_type": "stream",
     "text": [
      "0.9868766404199475\n",
      "0.9680851063829787\n"
     ]
    }
   ],
   "source": [
    "model = SVC(kernel='linear')\n",
    "model.fit(x_train , y_train)\n",
    "y_pred = model.predict(x_test)\n",
    "print(model.score(x_train , y_train))\n",
    "print(model.score(x_test , y_test))"
   ]
  },
  {
   "cell_type": "code",
   "execution_count": 8,
   "id": "bbc6bfa8-9858-4e01-816b-5ee4e7b0701c",
   "metadata": {},
   "outputs": [
    {
     "name": "stdout",
     "output_type": "stream",
     "text": [
      "0.9680851063829787\n",
      "[[ 67   4]\n",
      " [  2 115]]\n",
      "              precision    recall  f1-score   support\n",
      "\n",
      "           0       0.97      0.94      0.96        71\n",
      "           1       0.97      0.98      0.97       117\n",
      "\n",
      "    accuracy                           0.97       188\n",
      "   macro avg       0.97      0.96      0.97       188\n",
      "weighted avg       0.97      0.97      0.97       188\n",
      "\n"
     ]
    }
   ],
   "source": [
    "print(accuracy_score(y_pred , y_test))\n",
    "print(confusion_matrix(y_test , y_pred))\n",
    "print(classification_report(y_test , y_pred))"
   ]
  },
  {
   "cell_type": "code",
   "execution_count": 9,
   "id": "cbc622ae-d78b-4d38-af27-02e18d97fd24",
   "metadata": {},
   "outputs": [
    {
     "name": "stdout",
     "output_type": "stream",
     "text": [
      "0.984251968503937\n",
      "0.973404255319149\n",
      "0.973404255319149\n",
      "[[ 67   4]\n",
      " [  1 116]]\n",
      "              precision    recall  f1-score   support\n",
      "\n",
      "           0       0.99      0.94      0.96        71\n",
      "           1       0.97      0.99      0.98       117\n",
      "\n",
      "    accuracy                           0.97       188\n",
      "   macro avg       0.98      0.97      0.97       188\n",
      "weighted avg       0.97      0.97      0.97       188\n",
      "\n"
     ]
    }
   ],
   "source": [
    "model = SVC()\n",
    "model.fit(x_train , y_train)\n",
    "y_pred = model.predict(x_test)\n",
    "print(model.score(x_train , y_train))\n",
    "print(model.score(x_test , y_test))\n",
    "print(accuracy_score(y_pred , y_test))\n",
    "print(confusion_matrix(y_test , y_pred))\n",
    "print(classification_report(y_test , y_pred))"
   ]
  },
  {
   "cell_type": "code",
   "execution_count": null,
   "id": "79e3ab66-4d93-45e6-8f3a-4c9365acbcd4",
   "metadata": {},
   "outputs": [],
   "source": []
  }
 ],
 "metadata": {
  "kernelspec": {
   "display_name": "Python 3 (ipykernel)",
   "language": "python",
   "name": "python3"
  },
  "language_info": {
   "codemirror_mode": {
    "name": "ipython",
    "version": 3
   },
   "file_extension": ".py",
   "mimetype": "text/x-python",
   "name": "python",
   "nbconvert_exporter": "python",
   "pygments_lexer": "ipython3",
   "version": "3.11.7"
  }
 },
 "nbformat": 4,
 "nbformat_minor": 5
}
