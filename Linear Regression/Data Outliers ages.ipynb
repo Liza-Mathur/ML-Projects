{
 "cells": [
  {
   "cell_type": "code",
   "execution_count": null,
   "id": "67c04104-ba0c-4f0a-8783-274cd4634c57",
   "metadata": {},
   "outputs": [],
   "source": [
    "import pandas as pd\n",
    "import numpy as np\n",
    "import matplotlib.puplot as plt\n",
    "import seaborn as sns"
   ]
  },
  {
   "cell_type": "code",
   "execution_count": 2,
   "id": "8ee3ca5c-f8c0-473e-acd4-bc4ceb447914",
   "metadata": {},
   "outputs": [],
   "source": [
    "def create_ages(mu=50 , sigma = 13, num_samples = 100 , seed=42):\n",
    "    np.random.seed(seed)\n",
    "    sample_ages = np.random.normal(loc=mu , scale = sigma , size=num_samples)\n",
    "    sample_ages = np.round(sample_ages , decimals = 0)\n",
    "    return sample_ages"
   ]
  },
  {
   "cell_type": "code",
   "execution_count": 3,
   "id": "e0cf69ce-89d4-4ca6-97bc-abf1f2be5cbe",
   "metadata": {},
   "outputs": [],
   "source": [
    "sample = create_ages()"
   ]
  },
  {
   "cell_type": "code",
   "execution_count": 5,
   "id": "b85ca3fd-a9c2-4a37-b741-96a108eeba9b",
   "metadata": {},
   "outputs": [
    {
     "data": {
      "text/plain": [
       "array([56., 48., 58., 70., 47., 47., 71., 60., 44., 57., 44., 44., 53.,\n",
       "       25., 28., 43., 37., 54., 38., 32., 69., 47., 51., 31., 43., 51.,\n",
       "       35., 55., 42., 46., 42., 74., 50., 36., 61., 34., 53., 25., 33.,\n",
       "       53., 60., 52., 48., 46., 31., 41., 44., 64., 54., 27., 54., 45.,\n",
       "       41., 58., 63., 62., 39., 46., 54., 63., 44., 48., 36., 34., 61.,\n",
       "       68., 49., 63., 55., 42., 55., 70., 50., 70., 16., 61., 51., 46.,\n",
       "       51., 24., 47., 55., 69., 43., 39., 43., 62., 54., 43., 57., 51.,\n",
       "       63., 41., 46., 45., 31., 54., 53., 50., 47.])"
      ]
     },
     "execution_count": 5,
     "metadata": {},
     "output_type": "execute_result"
    }
   ],
   "source": [
    "sample"
   ]
  },
  {
   "cell_type": "code",
   "execution_count": 7,
   "id": "cb320b6d-15da-48d9-93da-04f6247931d6",
   "metadata": {},
   "outputs": [],
   "source": [
    "ser = pd.Series(sample)"
   ]
  },
  {
   "cell_type": "code",
   "execution_count": 11,
   "id": "f208174e-6082-459b-8b07-3d58804e4ee4",
   "metadata": {},
   "outputs": [
    {
     "name": "stdout",
     "output_type": "stream",
     "text": [
      "0     56.0\n",
      "1     48.0\n",
      "2     58.0\n",
      "3     70.0\n",
      "4     47.0\n",
      "      ... \n",
      "95    31.0\n",
      "96    54.0\n",
      "97    53.0\n",
      "98    50.0\n",
      "99    47.0\n",
      "Length: 100, dtype: float64\n"
     ]
    }
   ],
   "source": [
    "print(ser)"
   ]
  },
  {
   "cell_type": "code",
   "execution_count": 12,
   "id": "7cc8e2c2-363b-4b70-86ad-78ad6dfa2890",
   "metadata": {},
   "outputs": [
    {
     "data": {
      "text/plain": [
       "count    100.00000\n",
       "mean      48.66000\n",
       "std       11.82039\n",
       "min       16.00000\n",
       "25%       42.00000\n",
       "50%       48.00000\n",
       "75%       55.25000\n",
       "max       74.00000\n",
       "dtype: float64"
      ]
     },
     "execution_count": 12,
     "metadata": {},
     "output_type": "execute_result"
    }
   ],
   "source": [
    "ser.describe()"
   ]
  },
  {
   "cell_type": "code",
   "execution_count": 18,
   "id": "04331b80-6ec6-43e5-b4be-939b254bfd04",
   "metadata": {},
   "outputs": [],
   "source": [
    "q1 , q3 = np.percentile(ser,[25,75])"
   ]
  },
  {
   "cell_type": "code",
   "execution_count": 19,
   "id": "3adab44b-1d8c-49b0-af0b-58e88e21faa7",
   "metadata": {},
   "outputs": [
    {
     "name": "stdout",
     "output_type": "stream",
     "text": [
      "22.125\n"
     ]
    }
   ],
   "source": [
    "iqr = q3-q1\n",
    "lower_limit = q1 - 1.5*iqr\n",
    "print(lower_limit)"
   ]
  },
  {
   "cell_type": "code",
   "execution_count": 20,
   "id": "f93dd2b7-cf0e-4da6-b27c-dc1860dbea86",
   "metadata": {},
   "outputs": [],
   "source": [
    "ser = ser[ser < lower_limit]"
   ]
  },
  {
   "cell_type": "code",
   "execution_count": 21,
   "id": "a51d5546-be2a-4683-afa7-2914a2ae662d",
   "metadata": {},
   "outputs": [
    {
     "name": "stdout",
     "output_type": "stream",
     "text": [
      "74    16.0\n",
      "dtype: float64\n"
     ]
    }
   ],
   "source": [
    "print(ser)"
   ]
  },
  {
   "cell_type": "code",
   "execution_count": null,
   "id": "0edc8799-ae5a-494c-b32c-ace2f3dbd411",
   "metadata": {},
   "outputs": [],
   "source": []
  }
 ],
 "metadata": {
  "kernelspec": {
   "display_name": "Python 3 (ipykernel)",
   "language": "python",
   "name": "python3"
  },
  "language_info": {
   "codemirror_mode": {
    "name": "ipython",
    "version": 3
   },
   "file_extension": ".py",
   "mimetype": "text/x-python",
   "name": "python",
   "nbconvert_exporter": "python",
   "pygments_lexer": "ipython3",
   "version": "3.11.7"
  }
 },
 "nbformat": 4,
 "nbformat_minor": 5
}
