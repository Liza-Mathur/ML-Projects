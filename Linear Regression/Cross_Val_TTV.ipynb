{
 "cells": [
  {
   "cell_type": "code",
   "execution_count": 1,
   "id": "3eea33a8-7fff-4876-969a-237f35a757c3",
   "metadata": {},
   "outputs": [],
   "source": [
    "import pandas as pd\n",
    "import numpy as np"
   ]
  },
  {
   "cell_type": "code",
   "execution_count": 2,
   "id": "df03883d-86a8-41c4-a232-55a9d62808a9",
   "metadata": {},
   "outputs": [],
   "source": [
    "df = pd.read_csv('./DATA/Advertising.csv')"
   ]
  },
  {
   "cell_type": "code",
   "execution_count": 3,
   "id": "146626c0-eb9c-49b1-89a8-0e1f8b93d543",
   "metadata": {},
   "outputs": [
    {
     "data": {
      "text/html": [
       "<div>\n",
       "<style scoped>\n",
       "    .dataframe tbody tr th:only-of-type {\n",
       "        vertical-align: middle;\n",
       "    }\n",
       "\n",
       "    .dataframe tbody tr th {\n",
       "        vertical-align: top;\n",
       "    }\n",
       "\n",
       "    .dataframe thead th {\n",
       "        text-align: right;\n",
       "    }\n",
       "</style>\n",
       "<table border=\"1\" class=\"dataframe\">\n",
       "  <thead>\n",
       "    <tr style=\"text-align: right;\">\n",
       "      <th></th>\n",
       "      <th>TV</th>\n",
       "      <th>radio</th>\n",
       "      <th>newspaper</th>\n",
       "      <th>sales</th>\n",
       "    </tr>\n",
       "  </thead>\n",
       "  <tbody>\n",
       "    <tr>\n",
       "      <th>0</th>\n",
       "      <td>230.1</td>\n",
       "      <td>37.8</td>\n",
       "      <td>69.2</td>\n",
       "      <td>22.1</td>\n",
       "    </tr>\n",
       "    <tr>\n",
       "      <th>1</th>\n",
       "      <td>44.5</td>\n",
       "      <td>39.3</td>\n",
       "      <td>45.1</td>\n",
       "      <td>10.4</td>\n",
       "    </tr>\n",
       "    <tr>\n",
       "      <th>2</th>\n",
       "      <td>17.2</td>\n",
       "      <td>45.9</td>\n",
       "      <td>69.3</td>\n",
       "      <td>9.3</td>\n",
       "    </tr>\n",
       "    <tr>\n",
       "      <th>3</th>\n",
       "      <td>151.5</td>\n",
       "      <td>41.3</td>\n",
       "      <td>58.5</td>\n",
       "      <td>18.5</td>\n",
       "    </tr>\n",
       "    <tr>\n",
       "      <th>4</th>\n",
       "      <td>180.8</td>\n",
       "      <td>10.8</td>\n",
       "      <td>58.4</td>\n",
       "      <td>12.9</td>\n",
       "    </tr>\n",
       "  </tbody>\n",
       "</table>\n",
       "</div>"
      ],
      "text/plain": [
       "      TV  radio  newspaper  sales\n",
       "0  230.1   37.8       69.2   22.1\n",
       "1   44.5   39.3       45.1   10.4\n",
       "2   17.2   45.9       69.3    9.3\n",
       "3  151.5   41.3       58.5   18.5\n",
       "4  180.8   10.8       58.4   12.9"
      ]
     },
     "execution_count": 3,
     "metadata": {},
     "output_type": "execute_result"
    }
   ],
   "source": [
    "df.head(5)"
   ]
  },
  {
   "cell_type": "raw",
   "id": "85c773c0-1260-4101-8ecf-588e17a0fa53",
   "metadata": {},
   "source": [
    "X = df.drop('sales',axis=1)\n",
    "y = df['sales']"
   ]
  },
  {
   "cell_type": "code",
   "execution_count": 12,
   "id": "3dd866d8-10a1-4682-bf45-b073490abeff",
   "metadata": {},
   "outputs": [],
   "source": [
    "from sklearn.model_selection import train_test_split\n",
    "x_train , x_other , y_train , y_other = train_test_split(X,y, test_size = 0.3 , random_state = 101)\n",
    "x_eval , x_test , y_eval , y_test = train_test_split(x_other,y_other , test_size=0.5 , random_state=101)"
   ]
  },
  {
   "cell_type": "code",
   "execution_count": 13,
   "id": "f47a8513-7f01-44e3-8794-a1eea11be9e9",
   "metadata": {},
   "outputs": [],
   "source": [
    "from sklearn.preprocessing import StandardScaler\n",
    "scaler = StandardScaler()\n",
    "scaler.fit(x_train)\n",
    "x_train = scaler.transform(x_train)\n",
    "x_test = scaler.transform(x_test)\n",
    "x_eval = scaler.transform(x_eval)"
   ]
  },
  {
   "cell_type": "code",
   "execution_count": 16,
   "id": "c2f15b9c-1579-404f-bb3e-1be8a79a1dcd",
   "metadata": {},
   "outputs": [],
   "source": [
    "from sklearn.linear_model import Ridge\n",
    "mymodel = Ridge(alpha = 50)\n",
    "mymodel.fit(x_train , y_train)\n",
    "predictions = mymodel.predict(x_test)"
   ]
  },
  {
   "cell_type": "code",
   "execution_count": 17,
   "id": "5d8f908c-d770-425a-950e-27e7dffe0989",
   "metadata": {},
   "outputs": [
    {
     "data": {
      "text/plain": [
       "4.4687668628765165"
      ]
     },
     "execution_count": 17,
     "metadata": {},
     "output_type": "execute_result"
    }
   ],
   "source": [
    "from sklearn.metrics import mean_squared_error\n",
    "error = mean_squared_error(y_test , predictions)\n",
    "error"
   ]
  },
  {
   "cell_type": "code",
   "execution_count": 18,
   "id": "7bf14da9-8124-4a2f-9e61-43e19411afa4",
   "metadata": {},
   "outputs": [
    {
     "data": {
      "text/plain": [
       "2.254260083800517"
      ]
     },
     "execution_count": 18,
     "metadata": {},
     "output_type": "execute_result"
    }
   ],
   "source": [
    "from sklearn.linear_model import Ridge\n",
    "mymodel = Ridge(alpha = 1)\n",
    "mymodel.fit(x_train , y_train)\n",
    "predictions = mymodel.predict(x_test)\n",
    "error = mean_squared_error(y_test , predictions)\n",
    "error"
   ]
  },
  {
   "cell_type": "code",
   "execution_count": 19,
   "id": "a3d7377b-195c-432a-8bc2-1996bdd58506",
   "metadata": {},
   "outputs": [
    {
     "data": {
      "text/plain": [
       "2.250005180342762"
      ]
     },
     "execution_count": 19,
     "metadata": {},
     "output_type": "execute_result"
    }
   ],
   "source": [
    "from sklearn.linear_model import Ridge\n",
    "mymodel = Ridge(alpha = 0.7)\n",
    "mymodel.fit(x_train , y_train)\n",
    "predictions = mymodel.predict(x_test)\n",
    "error = mean_squared_error(y_test , predictions)\n",
    "error"
   ]
  },
  {
   "cell_type": "code",
   "execution_count": 20,
   "id": "e65f1829-e782-4a6c-9169-e57e6eae2b48",
   "metadata": {},
   "outputs": [
    {
     "data": {
      "text/plain": [
       "2.2434135268391304"
      ]
     },
     "execution_count": 20,
     "metadata": {},
     "output_type": "execute_result"
    }
   ],
   "source": [
    "from sklearn.linear_model import Ridge\n",
    "mymodel = Ridge(alpha = 0.2)\n",
    "mymodel.fit(x_train , y_train)\n",
    "predictions = mymodel.predict(x_test)\n",
    "error = mean_squared_error(y_test , predictions)\n",
    "error"
   ]
  },
  {
   "cell_type": "code",
   "execution_count": 21,
   "id": "4b7851c9-6aaf-4f78-8853-52e9797ee61b",
   "metadata": {},
   "outputs": [
    {
     "data": {
      "text/plain": [
       "2.3837830750569866"
      ]
     },
     "execution_count": 21,
     "metadata": {},
     "output_type": "execute_result"
    }
   ],
   "source": [
    "mymodel = Ridge(alpha = 1)\n",
    "mymodel.fit(x_train , y_train)\n",
    "predictions = mymodel.predict(x_eval)\n",
    "error = mean_squared_error(y_eval , predictions)\n",
    "error"
   ]
  },
  {
   "cell_type": "code",
   "execution_count": null,
   "id": "ebdab456-4dff-4d17-8758-ce46bbcf68d3",
   "metadata": {},
   "outputs": [],
   "source": []
  }
 ],
 "metadata": {
  "kernelspec": {
   "display_name": "Python 3 (ipykernel)",
   "language": "python",
   "name": "python3"
  },
  "language_info": {
   "codemirror_mode": {
    "name": "ipython",
    "version": 3
   },
   "file_extension": ".py",
   "mimetype": "text/x-python",
   "name": "python",
   "nbconvert_exporter": "python",
   "pygments_lexer": "ipython3",
   "version": "3.11.7"
  }
 },
 "nbformat": 4,
 "nbformat_minor": 5
}
