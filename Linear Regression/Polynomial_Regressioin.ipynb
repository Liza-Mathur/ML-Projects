{
 "cells": [
  {
   "cell_type": "code",
   "execution_count": 2,
   "id": "f0e2886b-6ab5-4106-b5dc-e4aec0485ba5",
   "metadata": {},
   "outputs": [
    {
     "data": {
      "text/html": [
       "<div>\n",
       "<style scoped>\n",
       "    .dataframe tbody tr th:only-of-type {\n",
       "        vertical-align: middle;\n",
       "    }\n",
       "\n",
       "    .dataframe tbody tr th {\n",
       "        vertical-align: top;\n",
       "    }\n",
       "\n",
       "    .dataframe thead th {\n",
       "        text-align: right;\n",
       "    }\n",
       "</style>\n",
       "<table border=\"1\" class=\"dataframe\">\n",
       "  <thead>\n",
       "    <tr style=\"text-align: right;\">\n",
       "      <th></th>\n",
       "      <th>TV</th>\n",
       "      <th>radio</th>\n",
       "      <th>newspaper</th>\n",
       "      <th>sales</th>\n",
       "    </tr>\n",
       "  </thead>\n",
       "  <tbody>\n",
       "    <tr>\n",
       "      <th>0</th>\n",
       "      <td>230.1</td>\n",
       "      <td>37.8</td>\n",
       "      <td>69.2</td>\n",
       "      <td>22.1</td>\n",
       "    </tr>\n",
       "    <tr>\n",
       "      <th>1</th>\n",
       "      <td>44.5</td>\n",
       "      <td>39.3</td>\n",
       "      <td>45.1</td>\n",
       "      <td>10.4</td>\n",
       "    </tr>\n",
       "    <tr>\n",
       "      <th>2</th>\n",
       "      <td>17.2</td>\n",
       "      <td>45.9</td>\n",
       "      <td>69.3</td>\n",
       "      <td>9.3</td>\n",
       "    </tr>\n",
       "  </tbody>\n",
       "</table>\n",
       "</div>"
      ],
      "text/plain": [
       "      TV  radio  newspaper  sales\n",
       "0  230.1   37.8       69.2   22.1\n",
       "1   44.5   39.3       45.1   10.4\n",
       "2   17.2   45.9       69.3    9.3"
      ]
     },
     "execution_count": 2,
     "metadata": {},
     "output_type": "execute_result"
    }
   ],
   "source": [
    "import pandas as pd\n",
    "import numpy as np\n",
    "import matplotlib.pyplot as plt\n",
    "import seaborn as sns\n",
    "from sklearn.preprocessing import PolynomialFeatures\n",
    "polynomial_converter = PolynomialFeatures(degree = 2, include_bias = False)\n",
    "df = pd.read_csv('L:/Python Projects All/UNZIP_FOR_NOTEBOOKS_FINAL/08-Linear-Regression-Models/Advertising.csv')\n",
    "df.head(3)"
   ]
  },
  {
   "cell_type": "code",
   "execution_count": 5,
   "id": "265ed03e-ce63-40c3-84ba-8c5ebf1c13a0",
   "metadata": {},
   "outputs": [
    {
     "data": {
      "text/html": [
       "<div>\n",
       "<style scoped>\n",
       "    .dataframe tbody tr th:only-of-type {\n",
       "        vertical-align: middle;\n",
       "    }\n",
       "\n",
       "    .dataframe tbody tr th {\n",
       "        vertical-align: top;\n",
       "    }\n",
       "\n",
       "    .dataframe thead th {\n",
       "        text-align: right;\n",
       "    }\n",
       "</style>\n",
       "<table border=\"1\" class=\"dataframe\">\n",
       "  <thead>\n",
       "    <tr style=\"text-align: right;\">\n",
       "      <th></th>\n",
       "      <th>TV</th>\n",
       "      <th>radio</th>\n",
       "      <th>newspaper</th>\n",
       "    </tr>\n",
       "  </thead>\n",
       "  <tbody>\n",
       "    <tr>\n",
       "      <th>0</th>\n",
       "      <td>230.1</td>\n",
       "      <td>37.8</td>\n",
       "      <td>69.2</td>\n",
       "    </tr>\n",
       "    <tr>\n",
       "      <th>1</th>\n",
       "      <td>44.5</td>\n",
       "      <td>39.3</td>\n",
       "      <td>45.1</td>\n",
       "    </tr>\n",
       "    <tr>\n",
       "      <th>2</th>\n",
       "      <td>17.2</td>\n",
       "      <td>45.9</td>\n",
       "      <td>69.3</td>\n",
       "    </tr>\n",
       "  </tbody>\n",
       "</table>\n",
       "</div>"
      ],
      "text/plain": [
       "      TV  radio  newspaper\n",
       "0  230.1   37.8       69.2\n",
       "1   44.5   39.3       45.1\n",
       "2   17.2   45.9       69.3"
      ]
     },
     "execution_count": 5,
     "metadata": {},
     "output_type": "execute_result"
    }
   ],
   "source": [
    "X = df.drop('sales',axis=1)\n",
    "y = df['sales']\n",
    "X.head(3)\n",
    "y.head(3)"
   ]
  },
  {
   "cell_type": "code",
   "execution_count": 11,
   "id": "b4370514-dcfc-4746-87a8-cf9f843e8b0c",
   "metadata": {},
   "outputs": [
    {
     "data": {
      "text/plain": [
       "(200, 9)"
      ]
     },
     "execution_count": 11,
     "metadata": {},
     "output_type": "execute_result"
    }
   ],
   "source": [
    "polynomial_converter.fit(X)\n",
    "X2 = polynomial_converter.transform(X)\n",
    "X2.shape"
   ]
  },
  {
   "cell_type": "code",
   "execution_count": 12,
   "id": "8e92e879-7b90-4401-b41d-df3bd93e306e",
   "metadata": {},
   "outputs": [],
   "source": [
    "from sklearn.model_selection import train_test_split\n",
    "from sklearn.linear_model import LinearRegression\n",
    "x_train , x_test , y_train , y_test = train_test_split(X2 , y , test_size=0.33 , random_state=101)\n",
    "mymodel = LinearRegression()\n",
    "mymodel.fit(x_train , y_train)\n",
    "predictions = mymodel.predict(x_test)"
   ]
  },
  {
   "cell_type": "code",
   "execution_count": 13,
   "id": "648cb186-8ce8-470a-8548-81ebcf51b721",
   "metadata": {},
   "outputs": [
    {
     "name": "stdout",
     "output_type": "stream",
     "text": [
      "0.48428105352155904 0.48428105352155904\n"
     ]
    }
   ],
   "source": [
    "from sklearn.metrics import mean_absolute_error , mean_squared_error\n",
    "mae = mean_absolute_error(y_test , predictions)\n",
    "mse = mean_absolute_error(y_test , predictions)\n",
    "rmse = np.sqrt(mse)\n",
    "print(mae , mse)"
   ]
  },
  {
   "cell_type": "code",
   "execution_count": 20,
   "id": "ccb19fb3-b811-421d-83c8-d59ab0fcf50e",
   "metadata": {},
   "outputs": [
    {
     "data": {
      "text/plain": [
       "[<matplotlib.lines.Line2D at 0x2e80f78b750>]"
      ]
     },
     "execution_count": 20,
     "metadata": {},
     "output_type": "execute_result"
    },
    {
     "data": {
      "image/png": "[encoded data removed]",
      "text/plain": [
       "<Figure size 640x480 with 1 Axes>"
      ]
     },
     "metadata": {},
     "output_type": "display_data"
    }
   ],
   "source": [
    "# Checking the degree\n",
    "X = df.drop('sales',axis=1)\n",
    "y = df['sales']\n",
    "train_mae_arr = []\n",
    "test_mae_arr = []\n",
    "\n",
    "for d in range(1,10):\n",
    "    poly_fit = PolynomialFeatures(degree=d , include_bias=False)\n",
    "    poly_features = poly_fit.fit_transform(X)\n",
    "    x_train , x_test , y_train , y_test = train_test_split(poly_features , y , test_size=0.33 , random_state=101)\n",
    "    mymodel = LinearRegression()\n",
    "    mymodel.fit(x_train , y_train)\n",
    "    predict_train = mymodel.predict(x_train)\n",
    "    train_mae = mean_absolute_error(y_train , predict_train)\n",
    "    predict_test = mymodel.predict(x_test)\n",
    "    test_mae = mean_absolute_error(y_test , predict_test)\n",
    "    train_mae_arr.append(train_mae)\n",
    "    test_mae_arr.append(test_mae)\n",
    "\n",
    "plt.plot(range(1,10) , train_mae_arr , label='Train MAE')\n",
    "plt.plot(range(1,10) , test_mae_arr , label='Test MAE')"
   ]
  },
  {
   "cell_type": "code",
   "execution_count": 24,
   "id": "e0c68668-35fe-4df9-a1ed-e18f546bcd84",
   "metadata": {},
   "outputs": [
    {
     "data": {
      "text/plain": [
       "<matplotlib.legend.Legend at 0x2e80fac6a10>"
      ]
     },
     "execution_count": 24,
     "metadata": {},
     "output_type": "execute_result"
    },
    {
     "data": {
      "image/png": "[encoded data removed]",
      "text/plain": [
       "<Figure size 640x480 with 1 Axes>"
      ]
     },
     "metadata": {},
     "output_type": "display_data"
    }
   ],
   "source": [
    "# Checking with RMSE\n",
    "train_mae_arr2 = []\n",
    "test_mae_arr2 = []\n",
    "\n",
    "for d in range(1,10):\n",
    "    poly_fit = PolynomialFeatures(degree=d , include_bias=False)\n",
    "    poly_features = poly_fit.fit_transform(X)\n",
    "    x_train , x_test , y_train , y_test = train_test_split(poly_features , y , test_size=0.33 , random_state=42)\n",
    "    mymodel = LinearRegression()\n",
    "    mymodel.fit(x_train , y_train)\n",
    "    predict_train = mymodel.predict(x_train)\n",
    "    train_mae = mean_squared_error(y_train , predict_train)\n",
    "    predict_test = mymodel.predict(x_test)\n",
    "    test_mae = mean_squared_error(y_test , predict_test)\n",
    "    train_mae_arr2.append(np.sqrt(train_mae))\n",
    "    test_mae_arr2.append(np.sqrt(test_mae))\n",
    "\n",
    "plt.plot(range(1,6) , train_mae_arr[:5] , label='Train MAE')\n",
    "plt.plot(range(1,6) , test_mae_arr[:5] , label='Test MAE')\n",
    "plt.legend()"
   ]
  },
  {
   "cell_type": "code",
   "execution_count": 18,
   "id": "18cee19f-1fab-4fb0-a5ba-8e422694a978",
   "metadata": {},
   "outputs": [
    {
     "data": {
      "text/plain": [
       "[1.5324409426512415,\n",
       " 0.6482912032533674,\n",
       " 0.5577254823365251,\n",
       " 0.5064297307498219,\n",
       " 2.3573610784372336,\n",
       " 11.21771417886336,\n",
       " 1194.3666980368562,\n",
       " 3468.9957768098748,\n",
       " 166098.4151585643]"
      ]
     },
     "execution_count": 18,
     "metadata": {},
     "output_type": "execute_result"
    }
   ],
   "source": [
    "test_mae_arr2"
   ]
  },
  {
   "cell_type": "code",
   "execution_count": 22,
   "id": "74538da3-c90a-4721-8ed8-b597f10d05ff",
   "metadata": {},
   "outputs": [
    {
     "data": {
      "text/plain": [
       "[1.5526939990087723,\n",
       " 0.6057702019226606,\n",
       " 0.4756847293184338,\n",
       " 0.37429879089338153,\n",
       " 0.24108757572467526,\n",
       " 0.194993741540385,\n",
       " 3.548002510099389,\n",
       " 0.11467946704992606,\n",
       " 0.11468750277640444]"
      ]
     },
     "execution_count": 22,
     "metadata": {},
     "output_type": "execute_result"
    }
   ],
   "source": [
    "train_mae_arr2"
   ]
  },
  {
   "cell_type": "code",
   "execution_count": null,
   "id": "6c745d74-5de1-4cdb-8fcf-743caf5170c3",
   "metadata": {},
   "outputs": [],
   "source": []
  }
 ],
 "metadata": {
  "kernelspec": {
   "display_name": "Python 3 (ipykernel)",
   "language": "python",
   "name": "python3"
  },
  "language_info": {
   "codemirror_mode": {
    "name": "ipython",
    "version": 3
   },
   "file_extension": ".py",
   "mimetype": "text/x-python",
   "name": "python",
   "nbconvert_exporter": "python",
   "pygments_lexer": "ipython3",
   "version": "3.11.7"
  }
 },
 "nbformat": 4,
 "nbformat_minor": 5
}
