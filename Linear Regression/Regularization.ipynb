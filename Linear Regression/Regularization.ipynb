{
 "cells": [
  {
   "cell_type": "code",
   "execution_count": 1,
   "id": "b9a5027f-db51-4333-890c-d230989536bf",
   "metadata": {},
   "outputs": [],
   "source": [
    "import numpy as np\n",
    "import pandas as pd\n",
    "import matplotlib.pyplot as plt\n",
    "import seaborn as sns"
   ]
  },
  {
   "cell_type": "code",
   "execution_count": 2,
   "id": "29af5f9c-ffee-4b90-b048-1d2a9e14eb5a",
   "metadata": {},
   "outputs": [
    {
     "data": {
      "text/plain": [
       "array([[2.30100000e+02, 3.78000000e+01, 6.92000000e+01, ...,\n",
       "        9.88757280e+04, 1.81010592e+05, 3.31373888e+05],\n",
       "       [4.45000000e+01, 3.93000000e+01, 4.51000000e+01, ...,\n",
       "        6.96564990e+04, 7.99365930e+04, 9.17338510e+04],\n",
       "       [1.72000000e+01, 4.59000000e+01, 6.93000000e+01, ...,\n",
       "        1.46001933e+05, 2.20434291e+05, 3.32812557e+05],\n",
       "       ...,\n",
       "       [1.77000000e+02, 9.30000000e+00, 6.40000000e+00, ...,\n",
       "        5.53536000e+02, 3.80928000e+02, 2.62144000e+02],\n",
       "       [2.83600000e+02, 4.20000000e+01, 6.62000000e+01, ...,\n",
       "        1.16776800e+05, 1.84062480e+05, 2.90117528e+05],\n",
       "       [2.32100000e+02, 8.60000000e+00, 8.70000000e+00, ...,\n",
       "        6.43452000e+02, 6.50934000e+02, 6.58503000e+02]])"
      ]
     },
     "execution_count": 2,
     "metadata": {},
     "output_type": "execute_result"
    }
   ],
   "source": [
    "# First Create polyfeatures\n",
    "df = pd.read_csv('L:/Python Projects All/UNZIP_FOR_NOTEBOOKS_FINAL/08-Linear-Regression-Models/Advertising.csv')\n",
    "X = df.drop('sales',axis=1)\n",
    "y = df['sales']\n",
    "from sklearn.preprocessing import PolynomialFeatures\n",
    "poly_converter = PolynomialFeatures(degree=3 , include_bias=False)\n",
    "poly_features = poly_converter.fit_transform(X)\n",
    "poly_features"
   ]
  },
  {
   "cell_type": "code",
   "execution_count": 4,
   "id": "bab480a4-65b3-4fa8-9007-edcd0ca39342",
   "metadata": {},
   "outputs": [],
   "source": [
    "# Create splits\n",
    "from sklearn.model_selection import train_test_split\n",
    "x_train , x_test , y_train , y_test = train_test_split(poly_features , y , test_size=0.3 , random_state=101)\n",
    "# scale data\n",
    "from sklearn.preprocessing import StandardScaler\n",
    "scalar = StandardScaler()\n",
    "scalar.fit(x_train)\n",
    "x_train_s = scalar.transform(x_train)\n",
    "x_test_s = scalar.transform(x_test)"
   ]
  },
  {
   "cell_type": "code",
   "execution_count": 8,
   "id": "9734c4fa-6d78-4b3d-95c2-c7ffd3384842",
   "metadata": {},
   "outputs": [
    {
     "name": "stdout",
     "output_type": "stream",
     "text": [
      "0.5774404204714183 0.8946386461319685\n"
     ]
    }
   ],
   "source": [
    "# Do ridge regularization like normal regression model\n",
    "from sklearn.linear_model import Ridge\n",
    "ridge_model = Ridge(alpha = 10)\n",
    "ridge_model.fit(x_train_s , y_train)\n",
    "predictions = ridge_model.predict(x_test_s)\n",
    "# Now check error metrics\n",
    "from sklearn.metrics import mean_absolute_error , mean_squared_error\n",
    "mae = mean_absolute_error(y_test , predictions)\n",
    "rmse = np.sqrt(mean_squared_error(y_test , predictions))\n",
    "print(mae , rmse)"
   ]
  },
  {
   "cell_type": "code",
   "execution_count": 11,
   "id": "9afa90e7-a7f2-47a7-bf72-65cd65c8803c",
   "metadata": {},
   "outputs": [
    {
     "name": "stdout",
     "output_type": "stream",
     "text": [
      "0.42737748843373746 0.6180719926921404\n"
     ]
    }
   ],
   "source": [
    "# Now check best value for alpha uff lambda with Cross Validation\n",
    "from sklearn.linear_model import RidgeCV\n",
    "ridge_model_cv = RidgeCV(alphas=(0.1 , 1.0 , 10.0 , 5.0 , 0.5 , 3.0 , 4.0))\n",
    "# here it will choose leave one out cross validation to choose accurate alpha from the range I gave as cv - default value is leave one out\n",
    "ridge_model_cv.fit(x_train_s , y_train)\n",
    "predictions_cv = ridge_model_cv.predict(x_test_s)\n",
    "mae = mean_absolute_error(y_test , predictions_cv)\n",
    "rmse = np.sqrt(mean_squared_error(y_test , predictions_cv))\n",
    "print(mae , rmse)"
   ]
  },
  {
   "cell_type": "code",
   "execution_count": 12,
   "id": "6d1f3b3a-3cd3-4d06-a020-acdf98f0a022",
   "metadata": {},
   "outputs": [
    {
     "name": "stdout",
     "output_type": "stream",
     "text": [
      "0.1\n"
     ]
    }
   ],
   "source": [
    "# Check best alpha value\n",
    "print(ridge_model_cv.alpha_)"
   ]
  },
  {
   "cell_type": "code",
   "execution_count": 13,
   "id": "341faab8-7de5-497d-ab0e-3d7a837f576b",
   "metadata": {},
   "outputs": [
    {
     "name": "stdout",
     "output_type": "stream",
     "text": [
      "0.42737748843288775 0.6180719926963003\n"
     ]
    }
   ],
   "source": [
    "# now try with this alpha\n",
    "ridge_model = Ridge(alpha = 0.1)\n",
    "ridge_model.fit(x_train_s , y_train)\n",
    "predictions = ridge_model.predict(x_test_s)\n",
    "# Now check error metrics\n",
    "from sklearn.metrics import mean_absolute_error , mean_squared_error\n",
    "mae = mean_absolute_error(y_test , predictions)\n",
    "rmse = np.sqrt(mean_squared_error(y_test , predictions))\n",
    "print(mae , rmse)"
   ]
  },
  {
   "cell_type": "code",
   "execution_count": 15,
   "id": "eb8a2c1a-3ff6-4ca5-85f3-aa25f78070cd",
   "metadata": {},
   "outputs": [
    {
     "name": "stdout",
     "output_type": "stream",
     "text": [
      "0.6541723161252854 1.130800102276253\n",
      "0.4943070909225828\n",
      "[1.002651   0.         0.         0.         3.79745279 0.\n",
      " 0.         0.         0.         0.         0.         0.\n",
      " 0.         0.         0.         0.         0.         0.\n",
      " 0.        ]\n"
     ]
    }
   ],
   "source": [
    "# Now let's move to LASSO regularization\n",
    "from sklearn.linear_model import LassoCV\n",
    "lasso_cv_model = LassoCV(eps = 0.1 , n_alphas=100 )\n",
    "lasso_cv_model.fit(x_train_s , y_train)\n",
    "predictions = lasso_cv_model.predict(x_test_s)\n",
    "mae = mean_absolute_error(y_test , predictions)\n",
    "rmse = np.sqrt(mean_squared_error(y_test , predictions))\n",
    "print(mae , rmse)\n",
    "print(lasso_cv_model.alpha_)\n",
    "print(lasso_cv_model.coef_)"
   ]
  },
  {
   "cell_type": "code",
   "execution_count": 17,
   "id": "f0b42749-6f9b-42e6-bf8e-572a736b8ab0",
   "metadata": {},
   "outputs": [
    {
     "name": "stdout",
     "output_type": "stream",
     "text": [
      "0.43350346185900673 0.6063140748984039\n",
      "0.4943070909225828\n",
      "[1.002651   0.         0.         0.         3.79745279 0.\n",
      " 0.         0.         0.         0.         0.         0.\n",
      " 0.         0.         0.         0.         0.         0.\n",
      " 0.        ]\n"
     ]
    }
   ],
   "source": [
    "# Here I can check for more features resulting into a little less error\n",
    "lasso_cv_model2 = LassoCV(eps = 0.001 , n_alphas=100 , max_iter=1000000)\n",
    "lasso_cv_model2.fit(x_train_s , y_train)\n",
    "predictions = lasso_cv_model2.predict(x_test_s)\n",
    "mae = mean_absolute_error(y_test , predictions)\n",
    "rmse = np.sqrt(mean_squared_error(y_test , predictions))\n",
    "print(mae , rmse)\n",
    "print(lasso_cv_model.alpha_)\n",
    "print(lasso_cv_model.coef_)"
   ]
  },
  {
   "cell_type": "code",
   "execution_count": 20,
   "id": "12b21e85-e25e-40c3-9c12-cef1635b11e8",
   "metadata": {},
   "outputs": [
    {
     "name": "stdout",
     "output_type": "stream",
     "text": [
      "0.43350346185900673 0.6063140748984039\n",
      "0.4943070909225828\n",
      "[1.002651   0.         0.         0.         3.79745279 0.\n",
      " 0.         0.         0.         0.         0.         0.\n",
      " 0.         0.         0.         0.         0.         0.\n",
      " 0.        ]\n"
     ]
    }
   ],
   "source": [
    "# Here I can check for more features resulting into a little less error\n",
    "lasso_cv_model2 = LassoCV(eps = 0.001 , n_alphas=100 , max_iter=6000000)\n",
    "lasso_cv_model2.fit(x_train_s , y_train)\n",
    "predictions = lasso_cv_model2.predict(x_test_s)\n",
    "mae = mean_absolute_error(y_test , predictions)\n",
    "rmse = np.sqrt(mean_squared_error(y_test , predictions))\n",
    "print(mae , rmse)\n",
    "print(lasso_cv_model.alpha_)\n",
    "print(lasso_cv_model.coef_)"
   ]
  },
  {
   "cell_type": "code",
   "execution_count": 21,
   "id": "f9ce255b-55bf-43c3-9ee7-cc82d6a66424",
   "metadata": {},
   "outputs": [
    {
     "name": "stdout",
     "output_type": "stream",
     "text": [
      "0.39904655462963257 0.581200586366697\n",
      "0.012268122349619192\n",
      "[ 4.14333758  0.56260482 -0.         -2.45632727  3.3765281  -0.\n",
      "  0.         -0.          0.         -0.          0.         -0.28702571\n",
      "  0.         -0.         -0.          0.21014655 -0.          0.\n",
      "  0.03960013]\n"
     ]
    }
   ],
   "source": [
    "# Now we shall see Elastic Net - Combined L1 and L2\n",
    "from sklearn.linear_model import ElasticNetCV\n",
    "elastic_net_cv_model = ElasticNetCV(l1_ratio=[.1,.5,.7,.9,.95,.99,1] , eps = 0.001 , n_alphas=100 , max_iter=1000000)\n",
    "elastic_net_cv_model.fit(x_test_s,y_test)\n",
    "predictions = elastic_net_cv_model.predict(x_test_s)\n",
    "mae = mean_absolute_error(y_test , predictions)\n",
    "rmse = np.sqrt(mean_squared_error(y_test , predictions))\n",
    "print(mae , rmse)\n",
    "print(elastic_net_cv_model.alpha_)\n",
    "print(elastic_net_cv_model.coef_)"
   ]
  },
  {
   "cell_type": "code",
   "execution_count": 22,
   "id": "3ca12e1d-4276-4398-a0ff-c937e810cd69",
   "metadata": {},
   "outputs": [
    {
     "name": "stdout",
     "output_type": "stream",
     "text": [
      "[0.1, 0.5, 0.7, 0.9, 0.95, 0.99, 1]\n"
     ]
    }
   ],
   "source": [
    "print(elastic_net_cv_model.l1_ratio)"
   ]
  },
  {
   "cell_type": "code",
   "execution_count": 23,
   "id": "ff129f37-b77e-42c8-b1d4-c37e2b4102d8",
   "metadata": {},
   "outputs": [
    {
     "name": "stdout",
     "output_type": "stream",
     "text": [
      "1.0\n"
     ]
    }
   ],
   "source": [
    "print(elastic_net_cv_model.l1_ratio_)"
   ]
  },
  {
   "cell_type": "code",
   "execution_count": null,
   "id": "0d18ecba-c5ff-46fa-9742-cbf0cfa55cf8",
   "metadata": {},
   "outputs": [],
   "source": []
  }
 ],
 "metadata": {
  "kernelspec": {
   "display_name": "Python 3 (ipykernel)",
   "language": "python",
   "name": "python3"
  },
  "language_info": {
   "codemirror_mode": {
    "name": "ipython",
    "version": 3
   },
   "file_extension": ".py",
   "mimetype": "text/x-python",
   "name": "python",
   "nbconvert_exporter": "python",
   "pygments_lexer": "ipython3",
   "version": "3.11.7"
  }
 },
 "nbformat": 4,
 "nbformat_minor": 5
}
